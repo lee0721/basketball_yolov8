{
  "cells": [
    {
      "cell_type": "markdown",
      "metadata": {
        "id": "view-in-github",
        "colab_type": "text"
      },
      "source": [
        "<a href=\"https://colab.research.google.com/github/lee0721/basketball_yolov8/blob/main/ytb_gamevideo.ipynb\" target=\"_parent\"><img src=\"https://colab.research.google.com/assets/colab-badge.svg\" alt=\"Open In Colab\"/></a>"
      ]
    },
    {
      "cell_type": "markdown",
      "metadata": {
        "id": "ZZC0FZhGdJ8u"
      },
      "source": [
        "# YOLOv8 物件偵測（球員、籃球、籃框）"
      ]
    },
    {
      "cell_type": "code",
      "source": [
        "from google.colab import drive\n",
        "\n",
        "# 掛載 Google Drive\n",
        "drive.mount('/content/gdrive', force_remount=True)"
      ],
      "metadata": {
        "colab": {
          "base_uri": "https://localhost:8080/"
        },
        "id": "i5CF2tWUwDrO",
        "outputId": "5af43fe7-f393-43e8-a7da-1030f27f6e38"
      },
      "execution_count": null,
      "outputs": [
        {
          "output_type": "stream",
          "name": "stdout",
          "text": [
            "Mounted at /content/gdrive\n"
          ]
        }
      ]
    },
    {
      "cell_type": "code",
      "source": [
        "# 確保 yt-dlp 已安裝\n",
        "!pip install -q yt-dlp\n",
        "\n",
        "import yt_dlp\n",
        "import subprocess\n",
        "import os\n",
        "\n",
        "# 設定儲存目錄\n",
        "output_dir = \"/content/gdrive/My Drive/individual_project/proj/\"\n",
        "os.makedirs(output_dir, exist_ok=True)  # 確保資料夾存在\n",
        "\n",
        "# 影片網址\n",
        "video_url = \"https://www.youtube.com/watch?v=izeb8qzEnbI\"\n",
        "\n",
        "# 設定輸出影片名稱\n",
        "output_video = os.path.join(output_dir, \"predicted_video.mp4\")\n",
        "\n",
        "# 使用 yt-dlp 下載最高畫質影片（完整下載後再用 FFmpeg 裁切 6:09 - 10:00）\n",
        "temp_video = \"/content/temp_full_video.mp4\"  # 暫存完整影片\n",
        "\n",
        "ydl_opts = {\n",
        "    'quiet': True,\n",
        "    'format': 'bestvideo[ext=mp4]+bestaudio[ext=m4a]/best',  # 最高畫質 + 最高音質\n",
        "    'merge_output_format': 'mp4',  # 合併輸出 MP4\n",
        "    'outtmpl': temp_video  # 先儲存完整影片在 Colab\n",
        "}\n",
        "\n",
        "# 下載完整影片\n",
        "with yt_dlp.YoutubeDL(ydl_opts) as ydl:\n",
        "    ydl.download([video_url])\n",
        "\n",
        "# 設定裁剪時間（6:09 = 369 秒, 10:00 = 600 秒）\n",
        "start_time = 369  # 6 分 9 秒\n",
        "duration = 600 - 369  # 剪到 10 分鐘結束\n",
        "\n",
        "# 使用 FFmpeg 裁剪影片\n",
        "ffmpeg_cmd = f\"ffmpeg -y -i \\\"{temp_video}\\\" -ss {start_time} -t {duration} -c copy \\\"{output_video}\\\"\"\n",
        "subprocess.run(ffmpeg_cmd, shell=True, check=True)\n",
        "\n",
        "print(f\"✅ 影片已成功下載（6:09 - 10:00 片段），存至 Google Drive: {output_video}\")"
      ],
      "metadata": {
        "colab": {
          "base_uri": "https://localhost:8080/"
        },
        "id": "GqaA5py88ZRd",
        "outputId": "7b2428e5-22b0-474d-d267-29b9d5dab43e"
      },
      "execution_count": null,
      "outputs": [
        {
          "output_type": "stream",
          "name": "stdout",
          "text": [
            "✅ 影片已成功下載（6:09 - 10:00 片段），存至 Google Drive: /content/gdrive/My Drive/individual_project/proj/predicted_video.mp4\n"
          ]
        }
      ]
    }
  ],
  "metadata": {
    "colab": {
      "provenance": [],
      "authorship_tag": "ABX9TyPIeAzL8AN9MnG3IDNh0DR6",
      "include_colab_link": true
    },
    "kernelspec": {
      "display_name": "Python 3",
      "name": "python3"
    },
    "language_info": {
      "name": "python"
    }
  },
  "nbformat": 4,
  "nbformat_minor": 0
}